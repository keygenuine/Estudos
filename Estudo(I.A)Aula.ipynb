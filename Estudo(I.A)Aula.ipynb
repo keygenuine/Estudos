{
  "nbformat": 4,
  "nbformat_minor": 0,
  "metadata": {
    "colab": {
      "provenance": [],
      "authorship_tag": "ABX9TyNHOQwX5qhzgjLYN6natpue",
      "include_colab_link": true
    },
    "kernelspec": {
      "name": "python3",
      "display_name": "Python 3"
    },
    "language_info": {
      "name": "python"
    }
  },
  "cells": [
    {
      "cell_type": "markdown",
      "metadata": {
        "id": "view-in-github",
        "colab_type": "text"
      },
      "source": [
        "<a href=\"https://colab.research.google.com/github/keygenuine/Estudos/blob/main/Estudo(I.A)Aula.ipynb\" target=\"_parent\"><img src=\"https://colab.research.google.com/assets/colab-badge.svg\" alt=\"Open In Colab\"/></a>"
      ]
    },
    {
      "cell_type": "code",
      "source": [
        "from sklearn.datasets import load_iris\n",
        "from sklearn.model_selection import train_test_split\n",
        "from sklearn.metrics import classification_report, confusion_matrix\n",
        "\n",
        "import matplotlib.pyplot as plt\n",
        "\n",
        "import tensorflow.keras as keras\n",
        "from tensorflow.keras.models import Sequential\n",
        "from tensorflow.keras.layers import Dense"
      ],
      "metadata": {
        "id": "kFr3fe1F1vea"
      },
      "execution_count": 3,
      "outputs": []
    },
    {
      "cell_type": "code",
      "source": [
        "import seaborn as sns\n",
        "iris = sns.load_dataset(\"iris\")\n",
        "print (iris)"
      ],
      "metadata": {
        "id": "ITB1LheN3wHH"
      },
      "execution_count": null,
      "outputs": []
    },
    {
      "cell_type": "code",
      "source": [
        "g = sns.pairplot(iris, hue=\"species\")"
      ],
      "metadata": {
        "id": "HhQj0CQq4b3B"
      },
      "execution_count": null,
      "outputs": []
    },
    {
      "cell_type": "code",
      "source": [
        "iris_X, iris_y = load_iris(return_X_y=True)\n",
        "print('Qtd. de itens no conjunto de treinamento:' , len(iris_X))\n",
        "print('Classe: ', iris_y)\n",
        "\n",
        "print('\\n Exemplos de medida  de 5 flores: ')\n",
        "print (iris_X[:5])"
      ],
      "metadata": {
        "id": "t2Y484jb7GLC"
      },
      "execution_count": null,
      "outputs": []
    },
    {
      "cell_type": "code",
      "source": [
        "X_train, X_test, y_train, y_test = train_test_split (iris_X,iris_y,test_size=0.2,random_state=123)\n",
        "print (\"Qtd. de itens no Conj. de treinamento: \", len(y_train))\n",
        "print ('Qtd, de itens no conj. de teste: ', len(y_test))"
      ],
      "metadata": {
        "id": "brn4XGeVAsfF"
      },
      "execution_count": null,
      "outputs": []
    },
    {
      "cell_type": "code",
      "source": [
        "y_train_onehot = keras.utils.to_categorical(y_train, num_classes = 3)\n",
        "y_test_onehot = keras.utils.to_categorical(y_test, num_classes = 3)\n",
        "\n",
        "print(\"###Antes###\")\n",
        "print(y_train[:5])\n",
        "print(y_test[:5])\n",
        "\n",
        "print(\"###Depois###\")\n",
        "print(y_train_onehot[:5])\n",
        "print(y_test_onehot[:5])"
      ],
      "metadata": {
        "id": "qTeOehK9Bg8H"
      },
      "execution_count": null,
      "outputs": []
    },
    {
      "cell_type": "code",
      "source": [
        "def create_model():\n",
        "  model = Sequential()\n",
        "  model.add(Dense(10,activation='tanh', input_dim=4)) \n",
        "  model.add(Dense(8,activation='tanh'))\n",
        "  model.add(Dense(6,activation='tanh'))\n",
        "  model.add(Dense(3,activation='softmax'))\n",
        "  model.compile('adam', 'categorical_crossentropy', metrics=['categorical_accuracy'])\n",
        "\n",
        "  return model\n",
        "\n",
        "model = create_model()\n",
        "\n",
        "keras.utils.plot_model(\n",
        "    model,\n",
        "    show_shapes=True,\n",
        "    show_layer_names=True,\n",
        "    rankdir='LR',\n",
        "    expand_nested=True,\n",
        "    dpi=96)\n"
      ],
      "metadata": {
        "id": "O1KWMeqQFknb"
      },
      "execution_count": null,
      "outputs": []
    }
  ]
}